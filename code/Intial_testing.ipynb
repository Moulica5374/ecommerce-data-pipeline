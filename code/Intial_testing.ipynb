{
  "nbformat": 4,
  "nbformat_minor": 0,
  "metadata": {
    "colab": {
      "provenance": []
    },
    "kernelspec": {
      "name": "python3",
      "display_name": "Python 3"
    },
    "language_info": {
      "name": "python"
    }
  },
  "cells": [
    {
      "cell_type": "code",
      "execution_count": 1,
      "metadata": {
        "colab": {
          "base_uri": "https://localhost:8080/"
        },
        "id": "kURnp_vcgQ2k",
        "outputId": "f347b91a-9796-4ceb-f477-0a7c9476f965"
      },
      "outputs": [
        {
          "output_type": "stream",
          "name": "stdout",
          "text": [
            "Requirement already satisfied: pyspark in /usr/local/lib/python3.12/dist-packages (3.5.1)\n",
            "Requirement already satisfied: py4j==0.10.9.7 in /usr/local/lib/python3.12/dist-packages (from pyspark) (0.10.9.7)\n"
          ]
        }
      ],
      "source": [
        "!pip install pyspark"
      ]
    },
    {
      "cell_type": "code",
      "source": [
        "from pyspark.sql import SparkSession\n",
        "from pyspark.sql.functions import *\n",
        "from pyspark.sql.types import *\n"
      ],
      "metadata": {
        "id": "Z-vLdBgOgZk9"
      },
      "execution_count": 2,
      "outputs": []
    },
    {
      "cell_type": "code",
      "source": [
        "spark = SparkSession.builder.appName('Silver Layer').getOrCreate()"
      ],
      "metadata": {
        "id": "0f__UpqognZZ"
      },
      "execution_count": 3,
      "outputs": []
    },
    {
      "cell_type": "markdown",
      "source": [
        "## Loading the input file"
      ],
      "metadata": {
        "id": "5kgj1DHpg5_E"
      }
    },
    {
      "cell_type": "code",
      "source": [
        "data = spark.read.csv('data.csv',header = True, inferSchema = True)"
      ],
      "metadata": {
        "id": "6mfJ_lqdg2OC"
      },
      "execution_count": 4,
      "outputs": []
    },
    {
      "cell_type": "code",
      "source": [
        "data.printSchema()"
      ],
      "metadata": {
        "colab": {
          "base_uri": "https://localhost:8080/"
        },
        "id": "LmXmkZIzhHLN",
        "outputId": "a6071c14-64d2-4866-de68-90f104532caa"
      },
      "execution_count": 5,
      "outputs": [
        {
          "output_type": "stream",
          "name": "stdout",
          "text": [
            "root\n",
            " |-- InvoiceNo: string (nullable = true)\n",
            " |-- StockCode: string (nullable = true)\n",
            " |-- Description: string (nullable = true)\n",
            " |-- Quantity: integer (nullable = true)\n",
            " |-- InvoiceDate: string (nullable = true)\n",
            " |-- UnitPrice: double (nullable = true)\n",
            " |-- CustomerID: integer (nullable = true)\n",
            " |-- Country: string (nullable = true)\n",
            "\n"
          ]
        }
      ]
    },
    {
      "cell_type": "code",
      "source": [
        "data.show(3,truncate = False)"
      ],
      "metadata": {
        "colab": {
          "base_uri": "https://localhost:8080/"
        },
        "id": "-qvK5gJbhL7B",
        "outputId": "10c707f0-5830-4732-f68e-62c4de1c639f"
      },
      "execution_count": 10,
      "outputs": [
        {
          "output_type": "stream",
          "name": "stdout",
          "text": [
            "+---------+---------+----------------------------------+--------+--------------+---------+----------+--------------+\n",
            "|InvoiceNo|StockCode|Description                       |Quantity|InvoiceDate   |UnitPrice|CustomerID|Country       |\n",
            "+---------+---------+----------------------------------+--------+--------------+---------+----------+--------------+\n",
            "|536365   |85123A   |WHITE HANGING HEART T-LIGHT HOLDER|6       |12/1/2010 8:26|2.55     |17850     |United Kingdom|\n",
            "|536365   |71053    |WHITE METAL LANTERN               |6       |12/1/2010 8:26|3.39     |17850     |United Kingdom|\n",
            "|536365   |84406B   |CREAM CUPID HEARTS COAT HANGER    |8       |12/1/2010 8:26|2.75     |17850     |United Kingdom|\n",
            "+---------+---------+----------------------------------+--------+--------------+---------+----------+--------------+\n",
            "only showing top 3 rows\n",
            "\n"
          ]
        }
      ]
    },
    {
      "cell_type": "code",
      "source": [
        "data.count()"
      ],
      "metadata": {
        "colab": {
          "base_uri": "https://localhost:8080/"
        },
        "id": "uT2FXVruhO1R",
        "outputId": "fd185ae5-bcec-440f-ef32-08a13940c849"
      },
      "execution_count": 9,
      "outputs": [
        {
          "output_type": "execute_result",
          "data": {
            "text/plain": [
              "541909"
            ]
          },
          "metadata": {},
          "execution_count": 9
        }
      ]
    },
    {
      "cell_type": "code",
      "source": [
        "data.select(\n",
        "    count(when(col('CustomerID').isNull(), 1)).alias('CustomerID_nulls')\n",
        ").show()"
      ],
      "metadata": {
        "colab": {
          "base_uri": "https://localhost:8080/"
        },
        "id": "U0rsUM_khW5t",
        "outputId": "920ac65e-69a6-4f1e-ff5b-48fa7073b3f0"
      },
      "execution_count": 11,
      "outputs": [
        {
          "output_type": "stream",
          "name": "stdout",
          "text": [
            "+----------------+\n",
            "|CustomerID_nulls|\n",
            "+----------------+\n",
            "|          135080|\n",
            "+----------------+\n",
            "\n"
          ]
        }
      ]
    },
    {
      "cell_type": "code",
      "source": [
        "null_counts = data.select([count(when(col(c).isNull(),1)).alias(c) for c in data.columns])"
      ],
      "metadata": {
        "id": "jEcmU3s7i398"
      },
      "execution_count": 16,
      "outputs": []
    },
    {
      "cell_type": "code",
      "source": [
        "null_counts.show()\n"
      ],
      "metadata": {
        "colab": {
          "base_uri": "https://localhost:8080/"
        },
        "id": "TVTSpLEyl0VO",
        "outputId": "cf7f12e1-7a9a-4c5c-cd9c-372eb732153b"
      },
      "execution_count": 17,
      "outputs": [
        {
          "output_type": "stream",
          "name": "stdout",
          "text": [
            "+---------+---------+-----------+--------+-----------+---------+----------+-------+\n",
            "|InvoiceNo|StockCode|Description|Quantity|InvoiceDate|UnitPrice|CustomerID|Country|\n",
            "+---------+---------+-----------+--------+-----------+---------+----------+-------+\n",
            "|        0|        0|       1454|       0|          0|        0|    135080|      0|\n",
            "+---------+---------+-----------+--------+-----------+---------+----------+-------+\n",
            "\n"
          ]
        }
      ]
    },
    {
      "cell_type": "code",
      "source": [
        "data.filter(col('Quantity') <0).count()"
      ],
      "metadata": {
        "colab": {
          "base_uri": "https://localhost:8080/"
        },
        "id": "xqJydbPAl2Qq",
        "outputId": "dacaefcb-7140-449c-d96d-1280806845a2"
      },
      "execution_count": 19,
      "outputs": [
        {
          "output_type": "execute_result",
          "data": {
            "text/plain": [
              "10624"
            ]
          },
          "metadata": {},
          "execution_count": 19
        }
      ]
    },
    {
      "cell_type": "code",
      "source": [
        "data.filter(col('UnitPrice') <= 0).count()"
      ],
      "metadata": {
        "colab": {
          "base_uri": "https://localhost:8080/"
        },
        "id": "mxrAKzStmc5r",
        "outputId": "f6115d93-8e18-4191-cb2d-2af43f475e3d"
      },
      "execution_count": 21,
      "outputs": [
        {
          "output_type": "execute_result",
          "data": {
            "text/plain": [
              "2517"
            ]
          },
          "metadata": {},
          "execution_count": 21
        }
      ]
    },
    {
      "cell_type": "code",
      "source": [
        "data.filter(col('Quantity') <0).show(3)"
      ],
      "metadata": {
        "colab": {
          "base_uri": "https://localhost:8080/"
        },
        "id": "04eXCuovmoOQ",
        "outputId": "ac5fa5ee-1ba9-4954-c6b9-28cf2629ce35"
      },
      "execution_count": 22,
      "outputs": [
        {
          "output_type": "stream",
          "name": "stdout",
          "text": [
            "+---------+---------+--------------------+--------+---------------+---------+----------+--------------+\n",
            "|InvoiceNo|StockCode|         Description|Quantity|    InvoiceDate|UnitPrice|CustomerID|       Country|\n",
            "+---------+---------+--------------------+--------+---------------+---------+----------+--------------+\n",
            "|  C536379|        D|            Discount|      -1| 12/1/2010 9:41|     27.5|     14527|United Kingdom|\n",
            "|  C536383|   35004C|SET OF 3 COLOURED...|      -1| 12/1/2010 9:49|     4.65|     15311|United Kingdom|\n",
            "|  C536391|    22556|PLASTERS IN TIN C...|     -12|12/1/2010 10:24|     1.65|     17548|United Kingdom|\n",
            "+---------+---------+--------------------+--------+---------------+---------+----------+--------------+\n",
            "only showing top 3 rows\n",
            "\n"
          ]
        }
      ]
    },
    {
      "cell_type": "code",
      "source": [
        "returns_count = data.filter((col('Quantity')<0) & (col('InvoiceNo').startswith(\"C\"))).count()\n",
        "returns_count"
      ],
      "metadata": {
        "colab": {
          "base_uri": "https://localhost:8080/"
        },
        "id": "a_iaZenEnABp",
        "outputId": "ad84973a-c9d1-4a54-ad2e-ca967bb37ffb"
      },
      "execution_count": 26,
      "outputs": [
        {
          "output_type": "execute_result",
          "data": {
            "text/plain": [
              "9288"
            ]
          },
          "metadata": {},
          "execution_count": 26
        }
      ]
    },
    {
      "cell_type": "code",
      "source": [
        "error_counts = data.filter((col('Quantity')<0) & (~col('InvoiceNo').startswith(\"C\"))).count()\n",
        "error_counts"
      ],
      "metadata": {
        "colab": {
          "base_uri": "https://localhost:8080/"
        },
        "id": "x_9h8OuqobS4",
        "outputId": "99628ef3-f8bf-4570-b9dd-35755f3e5e9f"
      },
      "execution_count": 28,
      "outputs": [
        {
          "output_type": "execute_result",
          "data": {
            "text/plain": [
              "1336"
            ]
          },
          "metadata": {},
          "execution_count": 28
        }
      ]
    },
    {
      "cell_type": "code",
      "source": [
        "suspicious = data.filter((col('Quantity')<0) & (~col('InvoiceNo').startswith(\"C\")))"
      ],
      "metadata": {
        "id": "D8LszQdEo5Vl"
      },
      "execution_count": 30,
      "outputs": []
    },
    {
      "cell_type": "code",
      "source": [
        "null_customer = suspicious.filter(col('CustomerID').isNull()).count()\n",
        "null_customer"
      ],
      "metadata": {
        "colab": {
          "base_uri": "https://localhost:8080/"
        },
        "id": "sCrIRw7ypJVM",
        "outputId": "974e075d-abb1-4b95-a6bf-db3db2eefe38"
      },
      "execution_count": 34,
      "outputs": [
        {
          "output_type": "execute_result",
          "data": {
            "text/plain": [
              "1336"
            ]
          },
          "metadata": {},
          "execution_count": 34
        }
      ]
    },
    {
      "cell_type": "code",
      "source": [
        "null_descrption = suspicious.filter(col('Description').isNull()).count()\n",
        "null_descrption"
      ],
      "metadata": {
        "colab": {
          "base_uri": "https://localhost:8080/"
        },
        "id": "BK_tmIavpxa5",
        "outputId": "32d75d19-b7fd-4611-ab31-7eccf2d94c1e"
      },
      "execution_count": 33,
      "outputs": [
        {
          "output_type": "execute_result",
          "data": {
            "text/plain": [
              "862"
            ]
          },
          "metadata": {},
          "execution_count": 33
        }
      ]
    },
    {
      "cell_type": "code",
      "source": [
        "has_descr = data.filter((col('Quantity')<0) & (~col('InvoiceNo').startswith(\"C\")) &(col('CustomerID').isNull())\n",
        "&(~col('Description').isNull()))"
      ],
      "metadata": {
        "id": "3kgrik41qAPc"
      },
      "execution_count": 36,
      "outputs": []
    },
    {
      "cell_type": "code",
      "source": [
        "has_descr.count()"
      ],
      "metadata": {
        "colab": {
          "base_uri": "https://localhost:8080/"
        },
        "id": "dMRgakIIq2Pp",
        "outputId": "18718858-6764-4e9e-a8c9-065da949014b"
      },
      "execution_count": 38,
      "outputs": [
        {
          "output_type": "execute_result",
          "data": {
            "text/plain": [
              "474"
            ]
          },
          "metadata": {},
          "execution_count": 38
        }
      ]
    },
    {
      "cell_type": "code",
      "source": [
        "has_descr.show(10, truncate=False)\n"
      ],
      "metadata": {
        "colab": {
          "base_uri": "https://localhost:8080/"
        },
        "id": "F7iRm10-rEbb",
        "outputId": "c2b6ed18-64e8-45be-9046-271cdb94f501"
      },
      "execution_count": 39,
      "outputs": [
        {
          "output_type": "stream",
          "name": "stdout",
          "text": [
            "+---------+---------+--------------------------+--------+---------------+---------+----------+--------------+\n",
            "|InvoiceNo|StockCode|Description               |Quantity|InvoiceDate    |UnitPrice|CustomerID|Country       |\n",
            "+---------+---------+--------------------------+--------+---------------+---------+----------+--------------+\n",
            "|537032   |21275    |?                         |-30     |12/3/2010 16:50|0.0      |NULL      |United Kingdom|\n",
            "|537425   |84968F   |check                     |-20     |12/6/2010 15:35|0.0      |NULL      |United Kingdom|\n",
            "|537426   |84968E   |check                     |-35     |12/6/2010 15:36|0.0      |NULL      |United Kingdom|\n",
            "|537432   |35833G   |damages                   |-43     |12/6/2010 16:10|0.0      |NULL      |United Kingdom|\n",
            "|538072   |22423    |faulty                    |-13     |12/9/2010 14:10|0.0      |NULL      |United Kingdom|\n",
            "|538090   |20956    |?                         |-723    |12/9/2010 14:48|0.0      |NULL      |United Kingdom|\n",
            "|538161   |46000S   |Dotcom sales              |-100    |12/9/2010 17:25|0.0      |NULL      |United Kingdom|\n",
            "|538162   |46000M   |Dotcom sales              |-100    |12/9/2010 17:25|0.0      |NULL      |United Kingdom|\n",
            "|540010   |22501    |reverse 21/5/10 adjustment|-100    |1/4/2011 11:13 |0.0      |NULL      |United Kingdom|\n",
            "|540012   |22502    |reverse 21/5/10 adjustment|-100    |1/4/2011 11:14 |0.0      |NULL      |United Kingdom|\n",
            "+---------+---------+--------------------------+--------+---------------+---------+----------+--------------+\n",
            "only showing top 10 rows\n",
            "\n"
          ]
        }
      ]
    },
    {
      "cell_type": "code",
      "source": [
        "data_clean = data.filter(\n",
        "    ~((col(\"Quantity\") < 0) &\n",
        "      (~col(\"InvoiceNo\").startswith(\"C\")) &\n",
        "      (col(\"CustomerID\").isNull()))\n",
        ")"
      ],
      "metadata": {
        "id": "gsyLyO59rIZS"
      },
      "execution_count": 40,
      "outputs": []
    },
    {
      "cell_type": "code",
      "source": [
        "normal_null_customers = data.filter((col('CustomerID').isNull()) & (col('Quantity')>0))"
      ],
      "metadata": {
        "id": "hSY5M0wbrvjo"
      },
      "execution_count": 43,
      "outputs": []
    },
    {
      "cell_type": "code",
      "source": [
        "normal_null_customers.show(5,truncate= False)"
      ],
      "metadata": {
        "colab": {
          "base_uri": "https://localhost:8080/"
        },
        "id": "PfSTXvJlsDPy",
        "outputId": "ec9f540d-d6c3-4970-9de7-96a2d9250c78"
      },
      "execution_count": 44,
      "outputs": [
        {
          "output_type": "stream",
          "name": "stdout",
          "text": [
            "+---------+---------+-------------------------------+--------+---------------+---------+----------+--------------+\n",
            "|InvoiceNo|StockCode|Description                    |Quantity|InvoiceDate    |UnitPrice|CustomerID|Country       |\n",
            "+---------+---------+-------------------------------+--------+---------------+---------+----------+--------------+\n",
            "|536414   |22139    |NULL                           |56      |12/1/2010 11:52|0.0      |NULL      |United Kingdom|\n",
            "|536544   |21773    |DECORATIVE ROSE BATHROOM BOTTLE|1       |12/1/2010 14:32|2.51     |NULL      |United Kingdom|\n",
            "|536544   |21774    |DECORATIVE CATS BATHROOM BOTTLE|2       |12/1/2010 14:32|2.51     |NULL      |United Kingdom|\n",
            "|536544   |21786    |POLKADOT RAIN HAT              |4       |12/1/2010 14:32|0.85     |NULL      |United Kingdom|\n",
            "|536544   |21787    |RAIN PONCHO RETROSPOT          |2       |12/1/2010 14:32|1.66     |NULL      |United Kingdom|\n",
            "+---------+---------+-------------------------------+--------+---------------+---------+----------+--------------+\n",
            "only showing top 5 rows\n",
            "\n"
          ]
        }
      ]
    },
    {
      "cell_type": "code",
      "source": [
        "revenue_null = normal_null_customers.withColumn(\"TotalPrice\", col(\"Quantity\") * col(\"UnitPrice\")) \\\n",
        "    .agg(sum(\"TotalPrice\").alias(\"revenue\")).collect()[0][\"revenue\"]"
      ],
      "metadata": {
        "id": "pYfX1eGqsPIN"
      },
      "execution_count": 45,
      "outputs": []
    },
    {
      "cell_type": "code",
      "source": [
        "revenue_null"
      ],
      "metadata": {
        "colab": {
          "base_uri": "https://localhost:8080/"
        },
        "id": "Th3BGTSGsau2",
        "outputId": "0f7b8268-02f6-4619-cb53-37b81ff43f6e"
      },
      "execution_count": 46,
      "outputs": [
        {
          "output_type": "execute_result",
          "data": {
            "text/plain": [
              "1733152.52000013"
            ]
          },
          "metadata": {},
          "execution_count": 46
        }
      ]
    },
    {
      "cell_type": "code",
      "source": [
        "total_revenue = data.withColumn(\"TotalPrice\", col(\"Quantity\") * col(\"UnitPrice\")) \\\n",
        "    .agg(sum(\"TotalPrice\").alias(\"revenue\")).collect()[0][\"revenue\"]\n",
        "total_revenue"
      ],
      "metadata": {
        "colab": {
          "base_uri": "https://localhost:8080/"
        },
        "id": "v7cfLswSsb_X",
        "outputId": "62fc70cf-2175-4aad-a605-53e255952dab"
      },
      "execution_count": 49,
      "outputs": [
        {
          "output_type": "execute_result",
          "data": {
            "text/plain": [
              "9747747.93399951"
            ]
          },
          "metadata": {},
          "execution_count": 49
        }
      ]
    },
    {
      "cell_type": "code",
      "source": [
        "data_cleaned = data.withColumn('customertype',when(col('CustomerID').isNull(),'Guest').otherwise('Registered'))"
      ],
      "metadata": {
        "id": "-UAlZa_Rsju1"
      },
      "execution_count": 50,
      "outputs": []
    },
    {
      "cell_type": "code",
      "source": [
        "data_cleaned.show(3)"
      ],
      "metadata": {
        "colab": {
          "base_uri": "https://localhost:8080/"
        },
        "id": "8eEHVizItN50",
        "outputId": "ca02a69f-b5fe-467e-af29-4a89205d4bcc"
      },
      "execution_count": 51,
      "outputs": [
        {
          "output_type": "stream",
          "name": "stdout",
          "text": [
            "+---------+---------+--------------------+--------+--------------+---------+----------+--------------+------------+\n",
            "|InvoiceNo|StockCode|         Description|Quantity|   InvoiceDate|UnitPrice|CustomerID|       Country|customertype|\n",
            "+---------+---------+--------------------+--------+--------------+---------+----------+--------------+------------+\n",
            "|   536365|   85123A|WHITE HANGING HEA...|       6|12/1/2010 8:26|     2.55|     17850|United Kingdom|  Registered|\n",
            "|   536365|    71053| WHITE METAL LANTERN|       6|12/1/2010 8:26|     3.39|     17850|United Kingdom|  Registered|\n",
            "|   536365|   84406B|CREAM CUPID HEART...|       8|12/1/2010 8:26|     2.75|     17850|United Kingdom|  Registered|\n",
            "+---------+---------+--------------------+--------+--------------+---------+----------+--------------+------------+\n",
            "only showing top 3 rows\n",
            "\n"
          ]
        }
      ]
    },
    {
      "cell_type": "code",
      "source": [
        "bad_price_returns = data.filter((col('UnitPrice')<=0) & (col('InvoiceNo').startswith('C')))\n",
        "bad_price_returns.count()"
      ],
      "metadata": {
        "colab": {
          "base_uri": "https://localhost:8080/"
        },
        "id": "3NJVzTUhtRUZ",
        "outputId": "5b14b2b9-fbd7-48ab-e7dc-06fc50e188f8"
      },
      "execution_count": 54,
      "outputs": [
        {
          "output_type": "execute_result",
          "data": {
            "text/plain": [
              "0"
            ]
          },
          "metadata": {},
          "execution_count": 54
        }
      ]
    },
    {
      "cell_type": "code",
      "source": [
        "bad_price_sales = data.filter((col('UnitPrice')<=0) & (~col('InvoiceNo').startswith('C')))\n",
        "bad_price_sales.count()"
      ],
      "metadata": {
        "colab": {
          "base_uri": "https://localhost:8080/"
        },
        "id": "3HKQkbyFtjDB",
        "outputId": "c4d755b6-e667-4522-9caf-3b4445f33fcd"
      },
      "execution_count": 55,
      "outputs": [
        {
          "output_type": "execute_result",
          "data": {
            "text/plain": [
              "2517"
            ]
          },
          "metadata": {},
          "execution_count": 55
        }
      ]
    },
    {
      "cell_type": "code",
      "source": [
        "price_zero = bad_price_sales.filter((col('UnitPrice') ==0)).count()\n",
        "price_negative = bad_price_sales.filter((col('UnitPrice')  < 0)).count()"
      ],
      "metadata": {
        "id": "EwxD7_MIt7Dv"
      },
      "execution_count": 58,
      "outputs": []
    },
    {
      "cell_type": "code",
      "source": [
        "price_negative"
      ],
      "metadata": {
        "colab": {
          "base_uri": "https://localhost:8080/"
        },
        "id": "B6zdMhItuHz-",
        "outputId": "9780d3b4-fd75-4c5c-a29b-7f2170839af1"
      },
      "execution_count": 59,
      "outputs": [
        {
          "output_type": "execute_result",
          "data": {
            "text/plain": [
              "2"
            ]
          },
          "metadata": {},
          "execution_count": 59
        }
      ]
    },
    {
      "cell_type": "code",
      "source": [
        "bad_price_sales.filter((col('UnitPrice') ==0)&(col('Description').isNull())).count()"
      ],
      "metadata": {
        "colab": {
          "base_uri": "https://localhost:8080/"
        },
        "id": "JrijfuuOuUeg",
        "outputId": "59f02a74-4cfd-4ee7-d740-481ee5769deb"
      },
      "execution_count": 65,
      "outputs": [
        {
          "output_type": "execute_result",
          "data": {
            "text/plain": [
              "1454"
            ]
          },
          "metadata": {},
          "execution_count": 65
        }
      ]
    },
    {
      "cell_type": "code",
      "source": [
        "bad_price_sales.filter((col('UnitPrice') ==0)&(~col('Description').isNull())).count()"
      ],
      "metadata": {
        "colab": {
          "base_uri": "https://localhost:8080/"
        },
        "id": "iJ3a2w0tucct",
        "outputId": "7104cf5d-5870-40ad-b21c-632b218664c0"
      },
      "execution_count": 66,
      "outputs": [
        {
          "output_type": "execute_result",
          "data": {
            "text/plain": [
              "1061"
            ]
          },
          "metadata": {},
          "execution_count": 66
        }
      ]
    },
    {
      "cell_type": "code",
      "source": [
        "bad_price_sales.filter((col('UnitPrice') ==0)&(col('Description').isNull()) & (col('CustomerID').isNull())).count()"
      ],
      "metadata": {
        "colab": {
          "base_uri": "https://localhost:8080/"
        },
        "id": "y4dajFnQvAbz",
        "outputId": "4e4c894c-9391-4b05-c4b7-ae640c05b7f4"
      },
      "execution_count": 68,
      "outputs": [
        {
          "output_type": "execute_result",
          "data": {
            "text/plain": [
              "1454"
            ]
          },
          "metadata": {},
          "execution_count": 68
        }
      ]
    },
    {
      "cell_type": "code",
      "source": [
        "bad_price_sales.filter((col('UnitPrice') ==0)&(col('Description').isNull()) & (~col('CustomerID').isNull())).count()"
      ],
      "metadata": {
        "colab": {
          "base_uri": "https://localhost:8080/"
        },
        "id": "HoARMe79vI-q",
        "outputId": "4bc2d930-8da9-4ece-9a05-a3b379b5ca40"
      },
      "execution_count": 69,
      "outputs": [
        {
          "output_type": "execute_result",
          "data": {
            "text/plain": [
              "0"
            ]
          },
          "metadata": {},
          "execution_count": 69
        }
      ]
    },
    {
      "cell_type": "code",
      "source": [
        "bad_price_sales.filter((col('UnitPrice') ==0)&(~col('Description').isNull()) & (col('Quantity') < 0)).count()"
      ],
      "metadata": {
        "colab": {
          "base_uri": "https://localhost:8080/"
        },
        "id": "bUghXhdFvNta",
        "outputId": "6c1b96cf-adfe-438c-9750-2eddf2b5306f"
      },
      "execution_count": 71,
      "outputs": [
        {
          "output_type": "execute_result",
          "data": {
            "text/plain": [
              "474"
            ]
          },
          "metadata": {},
          "execution_count": 71
        }
      ]
    },
    {
      "cell_type": "code",
      "source": [
        "zero_price_negative = data.filter(\n",
        "    (col(\"UnitPrice\") == 0) &\n",
        "    (col(\"Description\").isNotNull()) &\n",
        "    (col(\"Quantity\") < 0)\n",
        ")\n",
        "zero_price_negative.count()"
      ],
      "metadata": {
        "colab": {
          "base_uri": "https://localhost:8080/"
        },
        "id": "TE_shBK7vkIn",
        "outputId": "97b42ac0-30db-4a8f-d64e-bdeef75bfd64"
      },
      "execution_count": 73,
      "outputs": [
        {
          "output_type": "execute_result",
          "data": {
            "text/plain": [
              "474"
            ]
          },
          "metadata": {},
          "execution_count": 73
        }
      ]
    },
    {
      "cell_type": "code",
      "source": [
        "with_C = zero_price_negative.filter(col(\"InvoiceNo\").startswith(\"C\")).count()\n",
        "without_C = zero_price_negative.filter(~col(\"InvoiceNo\").startswith(\"C\")).count()"
      ],
      "metadata": {
        "id": "R_V2aTLswEql"
      },
      "execution_count": 74,
      "outputs": []
    },
    {
      "cell_type": "code",
      "source": [
        "with_C"
      ],
      "metadata": {
        "colab": {
          "base_uri": "https://localhost:8080/"
        },
        "id": "zXKG4mHbwOcK",
        "outputId": "94bea501-c2fe-4480-c852-7c48ad5c14b6"
      },
      "execution_count": 75,
      "outputs": [
        {
          "output_type": "execute_result",
          "data": {
            "text/plain": [
              "0"
            ]
          },
          "metadata": {},
          "execution_count": 75
        }
      ]
    },
    {
      "cell_type": "code",
      "source": [
        "without_C"
      ],
      "metadata": {
        "colab": {
          "base_uri": "https://localhost:8080/"
        },
        "id": "e-M0AQmrwPnD",
        "outputId": "5c952f4a-0882-4616-9f75-977e07fc9b42"
      },
      "execution_count": 76,
      "outputs": [
        {
          "output_type": "execute_result",
          "data": {
            "text/plain": [
              "474"
            ]
          },
          "metadata": {},
          "execution_count": 76
        }
      ]
    },
    {
      "cell_type": "code",
      "source": [
        "zero_price_positive = data.filter(\n",
        "    (col(\"UnitPrice\") == 0) &\n",
        "    (col(\"Quantity\") > 0)\n",
        ")"
      ],
      "metadata": {
        "id": "8xj7B_NRwQbQ"
      },
      "execution_count": 78,
      "outputs": []
    },
    {
      "cell_type": "code",
      "source": [
        "zero_price_positive.count()"
      ],
      "metadata": {
        "colab": {
          "base_uri": "https://localhost:8080/"
        },
        "id": "5-4QWpybweDd",
        "outputId": "e23bc36a-05ae-460d-d51c-7901508ac6fb"
      },
      "execution_count": 80,
      "outputs": [
        {
          "output_type": "execute_result",
          "data": {
            "text/plain": [
              "1179"
            ]
          },
          "metadata": {},
          "execution_count": 80
        }
      ]
    },
    {
      "cell_type": "code",
      "source": [
        "with_desc = zero_price_positive.filter(col(\"Description\").isNotNull()).count()\n",
        "without_desc = zero_price_positive.filter(col(\"Description\").isNull()).count()"
      ],
      "metadata": {
        "id": "0HQz-Iv7wgJK"
      },
      "execution_count": 81,
      "outputs": []
    },
    {
      "cell_type": "code",
      "source": [
        "with_desc"
      ],
      "metadata": {
        "colab": {
          "base_uri": "https://localhost:8080/"
        },
        "id": "RwJnZ9wRw5dQ",
        "outputId": "761638db-79fa-4809-a655-0fc2b7c3fa90"
      },
      "execution_count": 82,
      "outputs": [
        {
          "output_type": "execute_result",
          "data": {
            "text/plain": [
              "587"
            ]
          },
          "metadata": {},
          "execution_count": 82
        }
      ]
    },
    {
      "cell_type": "code",
      "source": [
        "without_desc"
      ],
      "metadata": {
        "colab": {
          "base_uri": "https://localhost:8080/"
        },
        "id": "nkRBIQggw6--",
        "outputId": "fcd3cef0-681e-4d31-b721-541203c51173"
      },
      "execution_count": 83,
      "outputs": [
        {
          "output_type": "execute_result",
          "data": {
            "text/plain": [
              "592"
            ]
          },
          "metadata": {},
          "execution_count": 83
        }
      ]
    },
    {
      "cell_type": "code",
      "source": [
        "incomplete = data.filter(\n",
        "    (col(\"UnitPrice\") == 0) &\n",
        "    (col(\"Quantity\") > 0) &\n",
        "    (col(\"Description\").isNull())\n",
        ")"
      ],
      "metadata": {
        "id": "Lu-BKN1Ew7_C"
      },
      "execution_count": 85,
      "outputs": []
    },
    {
      "cell_type": "code",
      "source": [
        "incomplete.show(3)"
      ],
      "metadata": {
        "colab": {
          "base_uri": "https://localhost:8080/"
        },
        "id": "8k_pdEoMxMRr",
        "outputId": "9f7d709b-65df-421f-9aef-9577a3887362"
      },
      "execution_count": 86,
      "outputs": [
        {
          "output_type": "stream",
          "name": "stdout",
          "text": [
            "+---------+---------+-----------+--------+---------------+---------+----------+--------------+\n",
            "|InvoiceNo|StockCode|Description|Quantity|    InvoiceDate|UnitPrice|CustomerID|       Country|\n",
            "+---------+---------+-----------+--------+---------------+---------+----------+--------------+\n",
            "|   536414|    22139|       NULL|      56|12/1/2010 11:52|      0.0|      NULL|United Kingdom|\n",
            "|   536545|    21134|       NULL|       1|12/1/2010 14:32|      0.0|      NULL|United Kingdom|\n",
            "|   536546|    22145|       NULL|       1|12/1/2010 14:33|      0.0|      NULL|United Kingdom|\n",
            "+---------+---------+-----------+--------+---------------+---------+----------+--------------+\n",
            "only showing top 3 rows\n",
            "\n"
          ]
        }
      ]
    },
    {
      "cell_type": "code",
      "source": [
        "possibly_free = data.filter(\n",
        "    (col(\"UnitPrice\") == 0) &\n",
        "    (col(\"Quantity\") > 0) &\n",
        "    (col(\"Description\").isNotNull())\n",
        ")\n",
        "\n",
        "\n",
        "possibly_free.show(20, truncate=False)"
      ],
      "metadata": {
        "colab": {
          "base_uri": "https://localhost:8080/"
        },
        "id": "YYRBzGKIxPe1",
        "outputId": "39effdf1-24a1-4c3c-edb5-a30eff45a675"
      },
      "execution_count": 87,
      "outputs": [
        {
          "output_type": "stream",
          "name": "stdout",
          "text": [
            "+---------+---------+--------------------------------+--------+---------------+---------+----------+--------------+\n",
            "|InvoiceNo|StockCode|Description                     |Quantity|InvoiceDate    |UnitPrice|CustomerID|Country       |\n",
            "+---------+---------+--------------------------------+--------+---------------+---------+----------+--------------+\n",
            "|536941   |22734    |amazon                          |20      |12/3/2010 12:08|0.0      |NULL      |United Kingdom|\n",
            "|536942   |22139    |amazon                          |15      |12/3/2010 12:08|0.0      |NULL      |United Kingdom|\n",
            "|537197   |22841    |ROUND CAKE TIN VINTAGE GREEN    |1       |12/5/2010 14:02|0.0      |12647     |Germany       |\n",
            "|537534   |85064    |CREAM SWEETHEART LETTER RACK    |1       |12/7/2010 11:48|0.0      |NULL      |United Kingdom|\n",
            "|537534   |84832    |ZINC WILLIE WINKIE  CANDLE STICK|1       |12/7/2010 11:48|0.0      |NULL      |United Kingdom|\n",
            "|537534   |84692    |BOX OF 24 COCKTAIL PARASOLS     |2       |12/7/2010 11:48|0.0      |NULL      |United Kingdom|\n",
            "|537534   |48184    |DOORMAT ENGLISH ROSE            |3       |12/7/2010 11:48|0.0      |NULL      |United Kingdom|\n",
            "|537534   |48111    |DOORMAT 3 SMILEY CATS           |1       |12/7/2010 11:48|0.0      |NULL      |United Kingdom|\n",
            "|537534   |22697    |GREEN REGENCY TEACUP AND SAUCER |1       |12/7/2010 11:48|0.0      |NULL      |United Kingdom|\n",
            "|537534   |22682    |FRENCH BLUE METAL DOOR SIGN 7   |1       |12/7/2010 11:48|0.0      |NULL      |United Kingdom|\n",
            "|537534   |22680    |FRENCH BLUE METAL DOOR SIGN 5   |1       |12/7/2010 11:48|0.0      |NULL      |United Kingdom|\n",
            "|537534   |22681    |FRENCH BLUE METAL DOOR SIGN 6   |2       |12/7/2010 11:48|0.0      |NULL      |United Kingdom|\n",
            "|537534   |22679    |FRENCH BLUE METAL DOOR SIGN 4   |5       |12/7/2010 11:48|0.0      |NULL      |United Kingdom|\n",
            "|537534   |22686    |FRENCH BLUE METAL DOOR SIGN No  |2       |12/7/2010 11:48|0.0      |NULL      |United Kingdom|\n",
            "|537534   |22683    |FRENCH BLUE METAL DOOR SIGN 8   |3       |12/7/2010 11:48|0.0      |NULL      |United Kingdom|\n",
            "|537534   |22676    |FRENCH BLUE METAL DOOR SIGN 1   |3       |12/7/2010 11:48|0.0      |NULL      |United Kingdom|\n",
            "|537534   |22625    |RED KITCHEN SCALES              |1       |12/7/2010 11:48|0.0      |NULL      |United Kingdom|\n",
            "|537534   |22624    |IVORY KITCHEN SCALES            |3       |12/7/2010 11:48|0.0      |NULL      |United Kingdom|\n",
            "|537534   |22619    |SET OF 6 SOLDIER SKITTLES       |1       |12/7/2010 11:48|0.0      |NULL      |United Kingdom|\n",
            "|537534   |22520    |CHILDS GARDEN TROWEL BLUE       |1       |12/7/2010 11:48|0.0      |NULL      |United Kingdom|\n",
            "+---------+---------+--------------------------------+--------+---------------+---------+----------+--------------+\n",
            "only showing top 20 rows\n",
            "\n"
          ]
        }
      ]
    },
    {
      "cell_type": "code",
      "source": [
        "free_with_customer = possibly_free.filter(col(\"CustomerID\").isNotNull()).count()\n",
        "free_without_customer = possibly_free.filter(col(\"CustomerID\").isNull()).count()"
      ],
      "metadata": {
        "id": "jBcGuTGrxZVA"
      },
      "execution_count": 88,
      "outputs": []
    },
    {
      "cell_type": "code",
      "source": [
        "free_with_customer"
      ],
      "metadata": {
        "colab": {
          "base_uri": "https://localhost:8080/"
        },
        "id": "gvQ8MVZUxmmT",
        "outputId": "9a965ee0-e207-4803-86fb-7ba14a321768"
      },
      "execution_count": 89,
      "outputs": [
        {
          "output_type": "execute_result",
          "data": {
            "text/plain": [
              "40"
            ]
          },
          "metadata": {},
          "execution_count": 89
        }
      ]
    },
    {
      "cell_type": "code",
      "source": [
        "free_without_customer"
      ],
      "metadata": {
        "colab": {
          "base_uri": "https://localhost:8080/"
        },
        "id": "4vlUmw2hxoD0",
        "outputId": "9f325e10-29dc-49cf-efcc-5ccb44b17621"
      },
      "execution_count": 90,
      "outputs": [
        {
          "output_type": "execute_result",
          "data": {
            "text/plain": [
              "547"
            ]
          },
          "metadata": {},
          "execution_count": 90
        }
      ]
    },
    {
      "cell_type": "code",
      "source": [],
      "metadata": {
        "id": "reRWh7Kaxo5h"
      },
      "execution_count": null,
      "outputs": []
    }
  ]
}